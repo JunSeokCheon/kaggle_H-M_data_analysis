{
  "nbformat": 4,
  "nbformat_minor": 0,
  "metadata": {
    "colab": {
      "name": "age_sex_estimation_data_extraction.ipynb",
      "provenance": [],
      "collapsed_sections": [],
      "mount_file_id": "1MveVpkZEGXb-8f6c0E-QCyNgj6fzeByT",
      "authorship_tag": "ABX9TyNNXsYJrxYRXiLgu2z/8yVy",
      "include_colab_link": true
    },
    "kernelspec": {
      "name": "python3",
      "display_name": "Python 3"
    },
    "language_info": {
      "name": "python"
    }
  },
  "cells": [
    {
      "cell_type": "markdown",
      "metadata": {
        "id": "view-in-github",
        "colab_type": "text"
      },
      "source": [
        "<a href=\"https://colab.research.google.com/github/JunSeokCheon/kaggle_H-M_data_analysis/blob/master/age_sex_estimation_data_extraction.ipynb\" target=\"_parent\"><img src=\"https://colab.research.google.com/assets/colab-badge.svg\" alt=\"Open In Colab\"/></a>"
      ]
    },
    {
      "cell_type": "markdown",
      "source": [
        "# 쇼핑몰의 추천 상품을 위해서 데이터를 준비하고 가공하는 작업을 진행합니다."
      ],
      "metadata": {
        "id": "Farh0HoLW1HH"
      }
    },
    {
      "cell_type": "code",
      "source": [
        "from google.colab import drive\n",
        "drive.mount('/content/drive')"
      ],
      "metadata": {
        "colab": {
          "base_uri": "https://localhost:8080/"
        },
        "id": "KJDzU7tY3ofS",
        "outputId": "c4df95ce-42a1-4086-cb2b-e8e211534d62"
      },
      "execution_count": null,
      "outputs": [
        {
          "output_type": "stream",
          "name": "stdout",
          "text": [
            "Mounted at /content/drive\n"
          ]
        }
      ]
    },
    {
      "cell_type": "code",
      "execution_count": null,
      "metadata": {
        "colab": {
          "base_uri": "https://localhost:8080/"
        },
        "id": "xc_gKL0erxfa",
        "outputId": "54b336b1-e3e3-42af-cd08-35c1646d02f2"
      },
      "outputs": [
        {
          "output_type": "stream",
          "name": "stdout",
          "text": [
            "/content/drive/MyDrive/2nd_project_elice/refine_data\n"
          ]
        }
      ],
      "source": [
        "cd /content/drive/MyDrive/2nd_project_elice/refine_data"
      ]
    },
    {
      "cell_type": "code",
      "source": [
        "import numpy as np\n",
        "import pandas as pd\n",
        "import seaborn as sns\n",
        "from matplotlib import pyplot as plt\n",
        "from tqdm.notebook import tqdm"
      ],
      "metadata": {
        "id": "pFqPSh_RsQmP"
      },
      "execution_count": null,
      "outputs": []
    },
    {
      "cell_type": "code",
      "source": [
        "articles = pd.read_csv(\"articles.csv\", index_col = 0)\n",
        "customers = pd.read_csv(\"customers.csv\", index_col = 0)\n",
        "transactions = pd.read_csv(\"transactions.csv\", index_col = 0)"
      ],
      "metadata": {
        "id": "3dVRJOMasRld"
      },
      "execution_count": null,
      "outputs": []
    },
    {
      "cell_type": "code",
      "source": [
        "age_gender_articleid = pd.read_csv(\"age_id&attribute&fullarticle_id.csv\", index_col = 0)"
      ],
      "metadata": {
        "id": "3yI5FD50KF2H"
      },
      "execution_count": null,
      "outputs": []
    },
    {
      "cell_type": "code",
      "source": [
        "transactions = transactions.drop_duplicates(['article_id'], ignore_index = True)"
      ],
      "metadata": {
        "id": "iEtSCfruKTmO"
      },
      "execution_count": null,
      "outputs": []
    },
    {
      "cell_type": "code",
      "source": [
        "pd.options.display.max_columns = None\n",
        "articles.head(5)"
      ],
      "metadata": {
        "colab": {
          "base_uri": "https://localhost:8080/",
          "height": 530
        },
        "id": "umViTLv8sSn9",
        "outputId": "f5546ed7-9c49-4856-8f72-84001314ecb3"
      },
      "execution_count": null,
      "outputs": [
        {
          "output_type": "execute_result",
          "data": {
            "text/plain": [
              "   article_id  product_code            prod_name  product_type_no  \\\n",
              "0   108775015        108775            Strap top              253   \n",
              "1   108775044        108775            Strap top              253   \n",
              "2   108775051        108775        Strap top (1)              253   \n",
              "3   111565001        111565  20 den 1p Stockings              304   \n",
              "4   111565003        111565  20 den 1p Stockings              302   \n",
              "\n",
              "  product_type_name  product_group_name  graphical_appearance_no  \\\n",
              "0          Vest top  Garment Upper body                  1010016   \n",
              "1          Vest top  Garment Upper body                  1010016   \n",
              "2          Vest top  Garment Upper body                  1010017   \n",
              "3  Underwear Tights      Socks & Tights                  1010016   \n",
              "4             Socks      Socks & Tights                  1010016   \n",
              "\n",
              "  graphical_appearance_name  colour_group_code colour_group_name  \\\n",
              "0                     Solid                  9             Black   \n",
              "1                     Solid                 10             White   \n",
              "2                    Stripe                 11         Off White   \n",
              "3                     Solid                  9             Black   \n",
              "4                     Solid                 13             Beige   \n",
              "\n",
              "   perceived_colour_value_id perceived_colour_value_name  \\\n",
              "0                          4                        Dark   \n",
              "1                          3                       Light   \n",
              "2                          1                 Dusty Light   \n",
              "3                          4                        Dark   \n",
              "4                          2                Medium Dusty   \n",
              "\n",
              "   perceived_colour_master_id perceived_colour_master_name  department_no  \\\n",
              "0                           5                        Black           1676   \n",
              "1                           9                        White           1676   \n",
              "2                           9                        White           1676   \n",
              "3                           5                        Black           3608   \n",
              "4                          11                        Beige           3608   \n",
              "\n",
              "  department_name index_code        index_name  index_group_no  \\\n",
              "0    Jersey Basic          A        Ladieswear               1   \n",
              "1    Jersey Basic          A        Ladieswear               1   \n",
              "2    Jersey Basic          A        Ladieswear               1   \n",
              "3    Tights basic          B  Lingeries/Tights               1   \n",
              "4    Tights basic          B  Lingeries/Tights               1   \n",
              "\n",
              "  index_group_name  section_no                    section_name  \\\n",
              "0       Ladieswear          16          Womens Everyday Basics   \n",
              "1       Ladieswear          16          Womens Everyday Basics   \n",
              "2       Ladieswear          16          Womens Everyday Basics   \n",
              "3       Ladieswear          62  Womens Nightwear, Socks & Tigh   \n",
              "4       Ladieswear          62  Womens Nightwear, Socks & Tigh   \n",
              "\n",
              "   garment_group_no garment_group_name  \\\n",
              "0              1002       Jersey Basic   \n",
              "1              1002       Jersey Basic   \n",
              "2              1002       Jersey Basic   \n",
              "3              1021   Socks and Tights   \n",
              "4              1021   Socks and Tights   \n",
              "\n",
              "                                         detail_desc  \n",
              "0            Jersey top with narrow shoulder straps.  \n",
              "1            Jersey top with narrow shoulder straps.  \n",
              "2            Jersey top with narrow shoulder straps.  \n",
              "3  Semi shiny nylon stockings with a wide, reinfo...  \n",
              "4  Semi shiny nylon stockings with a wide, reinfo...  "
            ],
            "text/html": [
              "\n",
              "  <div id=\"df-e489d822-7399-409d-a1a5-e6ec9bd67640\">\n",
              "    <div class=\"colab-df-container\">\n",
              "      <div>\n",
              "<style scoped>\n",
              "    .dataframe tbody tr th:only-of-type {\n",
              "        vertical-align: middle;\n",
              "    }\n",
              "\n",
              "    .dataframe tbody tr th {\n",
              "        vertical-align: top;\n",
              "    }\n",
              "\n",
              "    .dataframe thead th {\n",
              "        text-align: right;\n",
              "    }\n",
              "</style>\n",
              "<table border=\"1\" class=\"dataframe\">\n",
              "  <thead>\n",
              "    <tr style=\"text-align: right;\">\n",
              "      <th></th>\n",
              "      <th>article_id</th>\n",
              "      <th>product_code</th>\n",
              "      <th>prod_name</th>\n",
              "      <th>product_type_no</th>\n",
              "      <th>product_type_name</th>\n",
              "      <th>product_group_name</th>\n",
              "      <th>graphical_appearance_no</th>\n",
              "      <th>graphical_appearance_name</th>\n",
              "      <th>colour_group_code</th>\n",
              "      <th>colour_group_name</th>\n",
              "      <th>perceived_colour_value_id</th>\n",
              "      <th>perceived_colour_value_name</th>\n",
              "      <th>perceived_colour_master_id</th>\n",
              "      <th>perceived_colour_master_name</th>\n",
              "      <th>department_no</th>\n",
              "      <th>department_name</th>\n",
              "      <th>index_code</th>\n",
              "      <th>index_name</th>\n",
              "      <th>index_group_no</th>\n",
              "      <th>index_group_name</th>\n",
              "      <th>section_no</th>\n",
              "      <th>section_name</th>\n",
              "      <th>garment_group_no</th>\n",
              "      <th>garment_group_name</th>\n",
              "      <th>detail_desc</th>\n",
              "    </tr>\n",
              "  </thead>\n",
              "  <tbody>\n",
              "    <tr>\n",
              "      <th>0</th>\n",
              "      <td>108775015</td>\n",
              "      <td>108775</td>\n",
              "      <td>Strap top</td>\n",
              "      <td>253</td>\n",
              "      <td>Vest top</td>\n",
              "      <td>Garment Upper body</td>\n",
              "      <td>1010016</td>\n",
              "      <td>Solid</td>\n",
              "      <td>9</td>\n",
              "      <td>Black</td>\n",
              "      <td>4</td>\n",
              "      <td>Dark</td>\n",
              "      <td>5</td>\n",
              "      <td>Black</td>\n",
              "      <td>1676</td>\n",
              "      <td>Jersey Basic</td>\n",
              "      <td>A</td>\n",
              "      <td>Ladieswear</td>\n",
              "      <td>1</td>\n",
              "      <td>Ladieswear</td>\n",
              "      <td>16</td>\n",
              "      <td>Womens Everyday Basics</td>\n",
              "      <td>1002</td>\n",
              "      <td>Jersey Basic</td>\n",
              "      <td>Jersey top with narrow shoulder straps.</td>\n",
              "    </tr>\n",
              "    <tr>\n",
              "      <th>1</th>\n",
              "      <td>108775044</td>\n",
              "      <td>108775</td>\n",
              "      <td>Strap top</td>\n",
              "      <td>253</td>\n",
              "      <td>Vest top</td>\n",
              "      <td>Garment Upper body</td>\n",
              "      <td>1010016</td>\n",
              "      <td>Solid</td>\n",
              "      <td>10</td>\n",
              "      <td>White</td>\n",
              "      <td>3</td>\n",
              "      <td>Light</td>\n",
              "      <td>9</td>\n",
              "      <td>White</td>\n",
              "      <td>1676</td>\n",
              "      <td>Jersey Basic</td>\n",
              "      <td>A</td>\n",
              "      <td>Ladieswear</td>\n",
              "      <td>1</td>\n",
              "      <td>Ladieswear</td>\n",
              "      <td>16</td>\n",
              "      <td>Womens Everyday Basics</td>\n",
              "      <td>1002</td>\n",
              "      <td>Jersey Basic</td>\n",
              "      <td>Jersey top with narrow shoulder straps.</td>\n",
              "    </tr>\n",
              "    <tr>\n",
              "      <th>2</th>\n",
              "      <td>108775051</td>\n",
              "      <td>108775</td>\n",
              "      <td>Strap top (1)</td>\n",
              "      <td>253</td>\n",
              "      <td>Vest top</td>\n",
              "      <td>Garment Upper body</td>\n",
              "      <td>1010017</td>\n",
              "      <td>Stripe</td>\n",
              "      <td>11</td>\n",
              "      <td>Off White</td>\n",
              "      <td>1</td>\n",
              "      <td>Dusty Light</td>\n",
              "      <td>9</td>\n",
              "      <td>White</td>\n",
              "      <td>1676</td>\n",
              "      <td>Jersey Basic</td>\n",
              "      <td>A</td>\n",
              "      <td>Ladieswear</td>\n",
              "      <td>1</td>\n",
              "      <td>Ladieswear</td>\n",
              "      <td>16</td>\n",
              "      <td>Womens Everyday Basics</td>\n",
              "      <td>1002</td>\n",
              "      <td>Jersey Basic</td>\n",
              "      <td>Jersey top with narrow shoulder straps.</td>\n",
              "    </tr>\n",
              "    <tr>\n",
              "      <th>3</th>\n",
              "      <td>111565001</td>\n",
              "      <td>111565</td>\n",
              "      <td>20 den 1p Stockings</td>\n",
              "      <td>304</td>\n",
              "      <td>Underwear Tights</td>\n",
              "      <td>Socks &amp; Tights</td>\n",
              "      <td>1010016</td>\n",
              "      <td>Solid</td>\n",
              "      <td>9</td>\n",
              "      <td>Black</td>\n",
              "      <td>4</td>\n",
              "      <td>Dark</td>\n",
              "      <td>5</td>\n",
              "      <td>Black</td>\n",
              "      <td>3608</td>\n",
              "      <td>Tights basic</td>\n",
              "      <td>B</td>\n",
              "      <td>Lingeries/Tights</td>\n",
              "      <td>1</td>\n",
              "      <td>Ladieswear</td>\n",
              "      <td>62</td>\n",
              "      <td>Womens Nightwear, Socks &amp; Tigh</td>\n",
              "      <td>1021</td>\n",
              "      <td>Socks and Tights</td>\n",
              "      <td>Semi shiny nylon stockings with a wide, reinfo...</td>\n",
              "    </tr>\n",
              "    <tr>\n",
              "      <th>4</th>\n",
              "      <td>111565003</td>\n",
              "      <td>111565</td>\n",
              "      <td>20 den 1p Stockings</td>\n",
              "      <td>302</td>\n",
              "      <td>Socks</td>\n",
              "      <td>Socks &amp; Tights</td>\n",
              "      <td>1010016</td>\n",
              "      <td>Solid</td>\n",
              "      <td>13</td>\n",
              "      <td>Beige</td>\n",
              "      <td>2</td>\n",
              "      <td>Medium Dusty</td>\n",
              "      <td>11</td>\n",
              "      <td>Beige</td>\n",
              "      <td>3608</td>\n",
              "      <td>Tights basic</td>\n",
              "      <td>B</td>\n",
              "      <td>Lingeries/Tights</td>\n",
              "      <td>1</td>\n",
              "      <td>Ladieswear</td>\n",
              "      <td>62</td>\n",
              "      <td>Womens Nightwear, Socks &amp; Tigh</td>\n",
              "      <td>1021</td>\n",
              "      <td>Socks and Tights</td>\n",
              "      <td>Semi shiny nylon stockings with a wide, reinfo...</td>\n",
              "    </tr>\n",
              "  </tbody>\n",
              "</table>\n",
              "</div>\n",
              "      <button class=\"colab-df-convert\" onclick=\"convertToInteractive('df-e489d822-7399-409d-a1a5-e6ec9bd67640')\"\n",
              "              title=\"Convert this dataframe to an interactive table.\"\n",
              "              style=\"display:none;\">\n",
              "        \n",
              "  <svg xmlns=\"http://www.w3.org/2000/svg\" height=\"24px\"viewBox=\"0 0 24 24\"\n",
              "       width=\"24px\">\n",
              "    <path d=\"M0 0h24v24H0V0z\" fill=\"none\"/>\n",
              "    <path d=\"M18.56 5.44l.94 2.06.94-2.06 2.06-.94-2.06-.94-.94-2.06-.94 2.06-2.06.94zm-11 1L8.5 8.5l.94-2.06 2.06-.94-2.06-.94L8.5 2.5l-.94 2.06-2.06.94zm10 10l.94 2.06.94-2.06 2.06-.94-2.06-.94-.94-2.06-.94 2.06-2.06.94z\"/><path d=\"M17.41 7.96l-1.37-1.37c-.4-.4-.92-.59-1.43-.59-.52 0-1.04.2-1.43.59L10.3 9.45l-7.72 7.72c-.78.78-.78 2.05 0 2.83L4 21.41c.39.39.9.59 1.41.59.51 0 1.02-.2 1.41-.59l7.78-7.78 2.81-2.81c.8-.78.8-2.07 0-2.86zM5.41 20L4 18.59l7.72-7.72 1.47 1.35L5.41 20z\"/>\n",
              "  </svg>\n",
              "      </button>\n",
              "      \n",
              "  <style>\n",
              "    .colab-df-container {\n",
              "      display:flex;\n",
              "      flex-wrap:wrap;\n",
              "      gap: 12px;\n",
              "    }\n",
              "\n",
              "    .colab-df-convert {\n",
              "      background-color: #E8F0FE;\n",
              "      border: none;\n",
              "      border-radius: 50%;\n",
              "      cursor: pointer;\n",
              "      display: none;\n",
              "      fill: #1967D2;\n",
              "      height: 32px;\n",
              "      padding: 0 0 0 0;\n",
              "      width: 32px;\n",
              "    }\n",
              "\n",
              "    .colab-df-convert:hover {\n",
              "      background-color: #E2EBFA;\n",
              "      box-shadow: 0px 1px 2px rgba(60, 64, 67, 0.3), 0px 1px 3px 1px rgba(60, 64, 67, 0.15);\n",
              "      fill: #174EA6;\n",
              "    }\n",
              "\n",
              "    [theme=dark] .colab-df-convert {\n",
              "      background-color: #3B4455;\n",
              "      fill: #D2E3FC;\n",
              "    }\n",
              "\n",
              "    [theme=dark] .colab-df-convert:hover {\n",
              "      background-color: #434B5C;\n",
              "      box-shadow: 0px 1px 3px 1px rgba(0, 0, 0, 0.15);\n",
              "      filter: drop-shadow(0px 1px 2px rgba(0, 0, 0, 0.3));\n",
              "      fill: #FFFFFF;\n",
              "    }\n",
              "  </style>\n",
              "\n",
              "      <script>\n",
              "        const buttonEl =\n",
              "          document.querySelector('#df-e489d822-7399-409d-a1a5-e6ec9bd67640 button.colab-df-convert');\n",
              "        buttonEl.style.display =\n",
              "          google.colab.kernel.accessAllowed ? 'block' : 'none';\n",
              "\n",
              "        async function convertToInteractive(key) {\n",
              "          const element = document.querySelector('#df-e489d822-7399-409d-a1a5-e6ec9bd67640');\n",
              "          const dataTable =\n",
              "            await google.colab.kernel.invokeFunction('convertToInteractive',\n",
              "                                                     [key], {});\n",
              "          if (!dataTable) return;\n",
              "\n",
              "          const docLinkHtml = 'Like what you see? Visit the ' +\n",
              "            '<a target=\"_blank\" href=https://colab.research.google.com/notebooks/data_table.ipynb>data table notebook</a>'\n",
              "            + ' to learn more about interactive tables.';\n",
              "          element.innerHTML = '';\n",
              "          dataTable['output_type'] = 'display_data';\n",
              "          await google.colab.output.renderOutput(dataTable, element);\n",
              "          const docLink = document.createElement('div');\n",
              "          docLink.innerHTML = docLinkHtml;\n",
              "          element.appendChild(docLink);\n",
              "        }\n",
              "      </script>\n",
              "    </div>\n",
              "  </div>\n",
              "  "
            ]
          },
          "metadata": {},
          "execution_count": 6
        }
      ]
    },
    {
      "cell_type": "code",
      "source": [
        "articles.info()"
      ],
      "metadata": {
        "colab": {
          "base_uri": "https://localhost:8080/"
        },
        "id": "ZDbDF97OxUNj",
        "outputId": "7e3c60a1-4ebe-425a-fdc8-37102d0c570f"
      },
      "execution_count": null,
      "outputs": [
        {
          "output_type": "stream",
          "name": "stdout",
          "text": [
            "<class 'pandas.core.frame.DataFrame'>\n",
            "Int64Index: 96338 entries, 0 to 96337\n",
            "Data columns (total 25 columns):\n",
            " #   Column                        Non-Null Count  Dtype \n",
            "---  ------                        --------------  ----- \n",
            " 0   article_id                    96338 non-null  int64 \n",
            " 1   product_code                  96338 non-null  int64 \n",
            " 2   prod_name                     96338 non-null  object\n",
            " 3   product_type_no               96338 non-null  int64 \n",
            " 4   product_type_name             96338 non-null  object\n",
            " 5   product_group_name            96338 non-null  object\n",
            " 6   graphical_appearance_no       96338 non-null  int64 \n",
            " 7   graphical_appearance_name     96338 non-null  object\n",
            " 8   colour_group_code             96338 non-null  int64 \n",
            " 9   colour_group_name             96338 non-null  object\n",
            " 10  perceived_colour_value_id     96338 non-null  int64 \n",
            " 11  perceived_colour_value_name   96338 non-null  object\n",
            " 12  perceived_colour_master_id    96338 non-null  int64 \n",
            " 13  perceived_colour_master_name  96338 non-null  object\n",
            " 14  department_no                 96338 non-null  int64 \n",
            " 15  department_name               96338 non-null  object\n",
            " 16  index_code                    96338 non-null  object\n",
            " 17  index_name                    96338 non-null  object\n",
            " 18  index_group_no                96338 non-null  int64 \n",
            " 19  index_group_name              96338 non-null  object\n",
            " 20  section_no                    96338 non-null  int64 \n",
            " 21  section_name                  96338 non-null  object\n",
            " 22  garment_group_no              96338 non-null  int64 \n",
            " 23  garment_group_name            96338 non-null  object\n",
            " 24  detail_desc                   95997 non-null  object\n",
            "dtypes: int64(11), object(14)\n",
            "memory usage: 19.1+ MB\n"
          ]
        }
      ]
    },
    {
      "cell_type": "code",
      "source": [
        "transactions.info()"
      ],
      "metadata": {
        "colab": {
          "base_uri": "https://localhost:8080/"
        },
        "id": "K97EmoSk2m0W",
        "outputId": "4de6fbf8-ace4-473c-a6eb-ce4750541490"
      },
      "execution_count": null,
      "outputs": [
        {
          "output_type": "stream",
          "name": "stdout",
          "text": [
            "<class 'pandas.core.frame.DataFrame'>\n",
            "Int64Index: 2101776 entries, 0 to 2101775\n",
            "Data columns (total 5 columns):\n",
            " #   Column            Dtype  \n",
            "---  ------            -----  \n",
            " 0   t_dat             object \n",
            " 1   customer_id       object \n",
            " 2   article_id        int64  \n",
            " 3   price             float64\n",
            " 4   sales_channel_id  int64  \n",
            "dtypes: float64(1), int64(2), object(2)\n",
            "memory usage: 96.2+ MB\n"
          ]
        }
      ]
    },
    {
      "cell_type": "code",
      "source": [
        "customers.info()"
      ],
      "metadata": {
        "colab": {
          "base_uri": "https://localhost:8080/"
        },
        "id": "YEs36jah4c_K",
        "outputId": "817c6fef-35cc-4250-f44c-9f53576f9afd"
      },
      "execution_count": null,
      "outputs": [
        {
          "output_type": "stream",
          "name": "stdout",
          "text": [
            "<class 'pandas.core.frame.DataFrame'>\n",
            "Index: 1371980 entries, 00000dbacae5abe5e23885899a1fa44253a17956c6d1c3d25f88aa139fdfc657 to ffffd9ac14e89946416d80e791d064701994755c3ab686a1eaf3458c36f52241\n",
            "Data columns (total 6 columns):\n",
            " #   Column                  Non-Null Count    Dtype  \n",
            "---  ------                  --------------    -----  \n",
            " 0   FN                      476930 non-null   float64\n",
            " 1   Active                  464404 non-null   float64\n",
            " 2   club_member_status      1365918 non-null  object \n",
            " 3   fashion_news_frequency  1355971 non-null  object \n",
            " 4   age                     1356119 non-null  float64\n",
            " 5   postal_code             1371980 non-null  object \n",
            "dtypes: float64(3), object(3)\n",
            "memory usage: 73.3+ MB\n"
          ]
        }
      ]
    },
    {
      "cell_type": "code",
      "source": [
        "age_gender_articleid.info()"
      ],
      "metadata": {
        "colab": {
          "base_uri": "https://localhost:8080/"
        },
        "id": "ThCMW4CA5R6S",
        "outputId": "59d57da7-de9f-4853-f01e-ce83e35b7720"
      },
      "execution_count": null,
      "outputs": [
        {
          "output_type": "stream",
          "name": "stdout",
          "text": [
            "<class 'pandas.core.frame.DataFrame'>\n",
            "Int64Index: 12 entries, 0 to 11\n",
            "Data columns (total 4 columns):\n",
            " #   Column      Non-Null Count  Dtype \n",
            "---  ------      --------------  ----- \n",
            " 0   age_id      12 non-null     int64 \n",
            " 1   attribute   12 non-null     object\n",
            " 2   article_id  12 non-null     object\n",
            " 3   len         12 non-null     int64 \n",
            "dtypes: int64(2), object(2)\n",
            "memory usage: 480.0+ bytes\n"
          ]
        }
      ]
    },
    {
      "cell_type": "code",
      "source": [
        "from PIL import Image\n",
        "import cv2"
      ],
      "metadata": {
        "id": "IHf71DBp71__"
      },
      "execution_count": null,
      "outputs": []
    },
    {
      "cell_type": "markdown",
      "source": [
        "- article_id에 해당하는 이미지를 출력해주는 이미지 테스트 함수를 만들었습니다."
      ],
      "metadata": {
        "id": "KsMPXqSTW7M4"
      }
    },
    {
      "cell_type": "code",
      "source": [
        "def show_images(article_ids, cols=1, rows=-1):\n",
        "    if isinstance(article_ids, int) or isinstance(article_ids, str):\n",
        "        article_ids = [article_ids]\n",
        "    article_count = len(article_ids)\n",
        "    if rows < 0: rows = (article_count // cols) + 1\n",
        "    plt.figure(figsize=(3 + 3.5 * cols, 3 + 5 * rows))\n",
        "    for i in range(article_count):\n",
        "        article_id = (\"0\" + str(article_ids[i]))[-10:]\n",
        "        plt.subplot(rows, cols, i + 1)\n",
        "        plt.axis('off')\n",
        "        plt.title(article_id)\n",
        "        try:\n",
        "            image = Image.open(f\"images/{article_id[:3]}/{article_id}.jpg\")\n",
        "            plt.imshow(image)\n",
        "        except:\n",
        "            pass"
      ],
      "metadata": {
        "id": "p19k6L9W67LC"
      },
      "execution_count": null,
      "outputs": []
    },
    {
      "cell_type": "code",
      "source": [
        "age_gender_articleid.head()"
      ],
      "metadata": {
        "colab": {
          "base_uri": "https://localhost:8080/",
          "height": 206
        },
        "id": "yVbxtb9gK49W",
        "outputId": "b436eae9-87b1-4cb1-c8df-c245d7362b11"
      },
      "execution_count": null,
      "outputs": [
        {
          "output_type": "execute_result",
          "data": {
            "text/plain": [
              "   age_id attribute                                         article_id     len\n",
              "0       0       Man   685816001 685816002 685816041 685814003 68581...   11870\n",
              "1       0     Woman   741356002 372860002 673396002 832453002 37286...   71740\n",
              "2       1       Man   685816001 685816002 685816041 608945001 57534...   71150\n",
              "3       1     Woman   741356002 749699002 753737001 716672001 85912...  207590\n",
              "4       2       Man   685816001 685816002 598755015 598755001 68581...   47610"
            ],
            "text/html": [
              "\n",
              "  <div id=\"df-3a10681f-3cb8-4823-8609-daa3dd11bb65\">\n",
              "    <div class=\"colab-df-container\">\n",
              "      <div>\n",
              "<style scoped>\n",
              "    .dataframe tbody tr th:only-of-type {\n",
              "        vertical-align: middle;\n",
              "    }\n",
              "\n",
              "    .dataframe tbody tr th {\n",
              "        vertical-align: top;\n",
              "    }\n",
              "\n",
              "    .dataframe thead th {\n",
              "        text-align: right;\n",
              "    }\n",
              "</style>\n",
              "<table border=\"1\" class=\"dataframe\">\n",
              "  <thead>\n",
              "    <tr style=\"text-align: right;\">\n",
              "      <th></th>\n",
              "      <th>age_id</th>\n",
              "      <th>attribute</th>\n",
              "      <th>article_id</th>\n",
              "      <th>len</th>\n",
              "    </tr>\n",
              "  </thead>\n",
              "  <tbody>\n",
              "    <tr>\n",
              "      <th>0</th>\n",
              "      <td>0</td>\n",
              "      <td>Man</td>\n",
              "      <td>685816001 685816002 685816041 685814003 68581...</td>\n",
              "      <td>11870</td>\n",
              "    </tr>\n",
              "    <tr>\n",
              "      <th>1</th>\n",
              "      <td>0</td>\n",
              "      <td>Woman</td>\n",
              "      <td>741356002 372860002 673396002 832453002 37286...</td>\n",
              "      <td>71740</td>\n",
              "    </tr>\n",
              "    <tr>\n",
              "      <th>2</th>\n",
              "      <td>1</td>\n",
              "      <td>Man</td>\n",
              "      <td>685816001 685816002 685816041 608945001 57534...</td>\n",
              "      <td>71150</td>\n",
              "    </tr>\n",
              "    <tr>\n",
              "      <th>3</th>\n",
              "      <td>1</td>\n",
              "      <td>Woman</td>\n",
              "      <td>741356002 749699002 753737001 716672001 85912...</td>\n",
              "      <td>207590</td>\n",
              "    </tr>\n",
              "    <tr>\n",
              "      <th>4</th>\n",
              "      <td>2</td>\n",
              "      <td>Man</td>\n",
              "      <td>685816001 685816002 598755015 598755001 68581...</td>\n",
              "      <td>47610</td>\n",
              "    </tr>\n",
              "  </tbody>\n",
              "</table>\n",
              "</div>\n",
              "      <button class=\"colab-df-convert\" onclick=\"convertToInteractive('df-3a10681f-3cb8-4823-8609-daa3dd11bb65')\"\n",
              "              title=\"Convert this dataframe to an interactive table.\"\n",
              "              style=\"display:none;\">\n",
              "        \n",
              "  <svg xmlns=\"http://www.w3.org/2000/svg\" height=\"24px\"viewBox=\"0 0 24 24\"\n",
              "       width=\"24px\">\n",
              "    <path d=\"M0 0h24v24H0V0z\" fill=\"none\"/>\n",
              "    <path d=\"M18.56 5.44l.94 2.06.94-2.06 2.06-.94-2.06-.94-.94-2.06-.94 2.06-2.06.94zm-11 1L8.5 8.5l.94-2.06 2.06-.94-2.06-.94L8.5 2.5l-.94 2.06-2.06.94zm10 10l.94 2.06.94-2.06 2.06-.94-2.06-.94-.94-2.06-.94 2.06-2.06.94z\"/><path d=\"M17.41 7.96l-1.37-1.37c-.4-.4-.92-.59-1.43-.59-.52 0-1.04.2-1.43.59L10.3 9.45l-7.72 7.72c-.78.78-.78 2.05 0 2.83L4 21.41c.39.39.9.59 1.41.59.51 0 1.02-.2 1.41-.59l7.78-7.78 2.81-2.81c.8-.78.8-2.07 0-2.86zM5.41 20L4 18.59l7.72-7.72 1.47 1.35L5.41 20z\"/>\n",
              "  </svg>\n",
              "      </button>\n",
              "      \n",
              "  <style>\n",
              "    .colab-df-container {\n",
              "      display:flex;\n",
              "      flex-wrap:wrap;\n",
              "      gap: 12px;\n",
              "    }\n",
              "\n",
              "    .colab-df-convert {\n",
              "      background-color: #E8F0FE;\n",
              "      border: none;\n",
              "      border-radius: 50%;\n",
              "      cursor: pointer;\n",
              "      display: none;\n",
              "      fill: #1967D2;\n",
              "      height: 32px;\n",
              "      padding: 0 0 0 0;\n",
              "      width: 32px;\n",
              "    }\n",
              "\n",
              "    .colab-df-convert:hover {\n",
              "      background-color: #E2EBFA;\n",
              "      box-shadow: 0px 1px 2px rgba(60, 64, 67, 0.3), 0px 1px 3px 1px rgba(60, 64, 67, 0.15);\n",
              "      fill: #174EA6;\n",
              "    }\n",
              "\n",
              "    [theme=dark] .colab-df-convert {\n",
              "      background-color: #3B4455;\n",
              "      fill: #D2E3FC;\n",
              "    }\n",
              "\n",
              "    [theme=dark] .colab-df-convert:hover {\n",
              "      background-color: #434B5C;\n",
              "      box-shadow: 0px 1px 3px 1px rgba(0, 0, 0, 0.15);\n",
              "      filter: drop-shadow(0px 1px 2px rgba(0, 0, 0, 0.3));\n",
              "      fill: #FFFFFF;\n",
              "    }\n",
              "  </style>\n",
              "\n",
              "      <script>\n",
              "        const buttonEl =\n",
              "          document.querySelector('#df-3a10681f-3cb8-4823-8609-daa3dd11bb65 button.colab-df-convert');\n",
              "        buttonEl.style.display =\n",
              "          google.colab.kernel.accessAllowed ? 'block' : 'none';\n",
              "\n",
              "        async function convertToInteractive(key) {\n",
              "          const element = document.querySelector('#df-3a10681f-3cb8-4823-8609-daa3dd11bb65');\n",
              "          const dataTable =\n",
              "            await google.colab.kernel.invokeFunction('convertToInteractive',\n",
              "                                                     [key], {});\n",
              "          if (!dataTable) return;\n",
              "\n",
              "          const docLinkHtml = 'Like what you see? Visit the ' +\n",
              "            '<a target=\"_blank\" href=https://colab.research.google.com/notebooks/data_table.ipynb>data table notebook</a>'\n",
              "            + ' to learn more about interactive tables.';\n",
              "          element.innerHTML = '';\n",
              "          dataTable['output_type'] = 'display_data';\n",
              "          await google.colab.output.renderOutput(dataTable, element);\n",
              "          const docLink = document.createElement('div');\n",
              "          docLink.innerHTML = docLinkHtml;\n",
              "          element.appendChild(docLink);\n",
              "        }\n",
              "      </script>\n",
              "    </div>\n",
              "  </div>\n",
              "  "
            ]
          },
          "metadata": {},
          "execution_count": 20
        }
      ]
    },
    {
      "cell_type": "code",
      "source": [
        "temp = age_gender_articleid.copy()"
      ],
      "metadata": {
        "id": "ogS14BY4KmuW"
      },
      "execution_count": null,
      "outputs": []
    },
    {
      "cell_type": "markdown",
      "source": [
        "### 연령대/나이별 판매량 높은 10개의 상품을 5개의 카테고리를 기준으로 저장한다."
      ],
      "metadata": {
        "id": "T3bal1gqzRu5"
      }
    },
    {
      "cell_type": "code",
      "source": [
        "age_dict = {0 : 0, 1 : 0, 2 : 1, 3 : 1, 4 : 2, 5 : 2, 6 : 3, 7 : 3, 8 : 4, 9 : 4, 10 : 5, 11 : 5}\n",
        "index_group_name = 1"
      ],
      "metadata": {
        "id": "wxfLOEzxRAzv"
      },
      "execution_count": null,
      "outputs": []
    },
    {
      "cell_type": "code",
      "source": [
        "def age_sex_data_extraction(temp, index_group_name, transactions, item, empty_dataframe):\n",
        "  for i in range(12):\n",
        "    recommend_articleid = temp['article_id'].iloc[i].split()\n",
        "    recommend_articleid = list(map(int, recommend_articleid))\n",
        "    recommend_articleid = pd.DataFrame(recommend_articleid, columns=['article_id'])\n",
        "    test = pd.merge(articles, recommend_articleid, how='inner', on='article_id')\n",
        "    if i % 2 == 0: # 남성\n",
        "      test = test[test['product_type_name'] == item]\n",
        "      test = test[test['index_group_name'] == 'Menswear']\n",
        "      test['age_id'] = age_dict[i]     \n",
        "      test['index_group_name'] = index_group_name\n",
        "      test = test.loc[:, [\"article_id\", \"prod_name\", \"product_type_name\", \"colour_group_name\", \"detail_desc\", \"index_group_name\", \"age_id\"]].reset_index(drop = True)\n",
        "      test = pd.merge(test, transactions, how='inner', on=\"article_id\")\n",
        "      test = test.drop(columns=[\"t_dat\", \"customer_id\",  \"sales_channel_id\"])\n",
        "      test = test.sample(frac=1).reset_index(drop=True)[:10]\n",
        "      # test = test.sort_values(by=\"price\", ascending=False).reset_index(drop = True)[:20]\n",
        "      test['price'] = test['price'].map(lambda x : int(round(x*1000*1200, -2)))\n",
        "      test['article_id'] = test['article_id'].map(lambda x : (\"0\" + str(x)))\n",
        "      empty_dataframe = pd.merge(empty_dataframe, test, how='outer', on=[\"article_id\", \"prod_name\", \"product_type_name\", \"colour_group_name\", \"detail_desc\", \"index_group_name\", \"age_id\", 'price'])\n",
        "    else: # 여성\n",
        "      test = test[test['product_type_name'] == item]\n",
        "      test = test[test['index_group_name'] == 'Ladieswear']\n",
        "      test['age_id'] = age_dict[i]     \n",
        "      test['index_group_name'] = 0\n",
        "      test = test.loc[:, [\"article_id\", \"prod_name\", \"product_type_name\", \"colour_group_name\", \"detail_desc\", \"index_group_name\", \"age_id\"]].reset_index(drop = True)\n",
        "      test = pd.merge(test, transactions, how='inner', on=\"article_id\")\n",
        "      test = test.drop(columns=[\"t_dat\", \"customer_id\",  \"sales_channel_id\"])\n",
        "      test = test.sample(frac=1).reset_index(drop=True)[:10]\n",
        "      # test = test.sort_values(by=\"price\", ascending=False).reset_index(drop = True)[:20]\n",
        "      test['price'] = test['price'].map(lambda x : int(round(x*1000*1200, -2)))\n",
        "      test['article_id'] = test['article_id'].map(lambda x : (\"0\" + str(x)))\n",
        "      empty_dataframe = pd.merge(empty_dataframe, test, how='outer', on=[\"article_id\", \"prod_name\", \"product_type_name\", \"colour_group_name\", \"detail_desc\", \"index_group_name\", \"age_id\", 'price'])\n",
        "  return empty_dataframe\n",
        "      "
      ],
      "metadata": {
        "id": "c4FwZPvQgY2n"
      },
      "execution_count": null,
      "outputs": []
    },
    {
      "cell_type": "markdown",
      "source": [
        "### 카테고리 데이터 안에 index_group_name 컬럼으로 성별을 지정해준다.(남성 - 1, 여성 - 0)\n",
        "### age_id로 연령대를 지정해준다.(0 - 10대, 1 - 20대, 2 - 30대, 3 - 40대, 4 - 50대, 5- 60대 이상)"
      ],
      "metadata": {
        "id": "XkRZD1LGzeiM"
      }
    },
    {
      "cell_type": "code",
      "source": [
        "empty_dataframe = pd.DataFrame(columns=[\"article_id\", \"prod_name\", \"product_type_name\", \"colour_group_name\", \"detail_desc\", \"index_group_name\", \"age_id\", 'price'])"
      ],
      "metadata": {
        "id": "ej_Dzn2rgwal"
      },
      "execution_count": null,
      "outputs": []
    },
    {
      "cell_type": "code",
      "source": [
        "# \"T-shirt\", \"Sweater\", \"Trousers\", \"Skirt\", \"Sneakers\"\n",
        "for item in [\"Skirt\"]:\n",
        "  result = age_sex_data_extraction(temp, index_group_name, transactions, item, empty_dataframe)\n",
        "  result.to_json(f\"../image&json_data/{item}/json/{item}.json\", orient = 'records')\n",
        "  for article_id in result['article_id'].tolist():\n",
        "    try:\n",
        "      image = Image.open(f\"../images/{article_id[:3]}/{article_id}.jpg\")\n",
        "      image.save(f'../image&json_data/{item}/image/{article_id}.jpg')\n",
        "    except:\n",
        "      pass"
      ],
      "metadata": {
        "id": "w7Q2MTndgaJR"
      },
      "execution_count": null,
      "outputs": []
    }
  ]
}