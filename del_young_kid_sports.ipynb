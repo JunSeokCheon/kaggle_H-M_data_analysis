{
  "nbformat": 4,
  "nbformat_minor": 0,
  "metadata": {
    "colab": {
      "name": "del_young_kid_sports.ipynb",
      "provenance": [],
      "collapsed_sections": [],
      "machine_shape": "hm",
      "mount_file_id": "18x4yF6lJg9pxRk5ehNJDDqxBSnIvqaYx",
      "authorship_tag": "ABX9TyNymMM8eh2DmqgeHVun+7R0",
      "include_colab_link": true
    },
    "kernelspec": {
      "name": "python3",
      "display_name": "Python 3"
    },
    "language_info": {
      "name": "python"
    },
    "accelerator": "GPU"
  },
  "cells": [
    {
      "cell_type": "markdown",
      "metadata": {
        "id": "view-in-github",
        "colab_type": "text"
      },
      "source": [
        "<a href=\"https://colab.research.google.com/github/JunSeokCheon/kaggle_H-M_data_analysis/blob/master/del_young_kid_sports.ipynb\" target=\"_parent\"><img src=\"https://colab.research.google.com/assets/colab-badge.svg\" alt=\"Open In Colab\"/></a>"
      ]
    },
    {
      "cell_type": "markdown",
      "source": [
        "# 연령/유형 article_id 데이터프레임에서 Young, Kids, Sports-person 유형 제거\n",
        "- 남성/여성을 나타내는 Man/Woman만 사용"
      ],
      "metadata": {
        "id": "QNABzgWsti7l"
      }
    },
    {
      "cell_type": "code",
      "source": [
        "from google.colab import drive\n",
        "drive.mount('/content/drive')"
      ],
      "metadata": {
        "colab": {
          "base_uri": "https://localhost:8080/"
        },
        "id": "md_hFjUdYIFN",
        "outputId": "4e36ef45-fdc4-4ed9-bd05-8771ccaedb4c"
      },
      "execution_count": 1,
      "outputs": [
        {
          "output_type": "stream",
          "name": "stdout",
          "text": [
            "Drive already mounted at /content/drive; to attempt to forcibly remount, call drive.mount(\"/content/drive\", force_remount=True).\n"
          ]
        }
      ]
    },
    {
      "cell_type": "code",
      "execution_count": 2,
      "metadata": {
        "colab": {
          "base_uri": "https://localhost:8080/"
        },
        "id": "aCTv4JCcgacu",
        "outputId": "eac7903b-8535-4ef9-ae80-039bba53cd45"
      },
      "outputs": [
        {
          "output_type": "stream",
          "name": "stdout",
          "text": [
            "/content/drive/MyDrive/2nd_project_elice/refine_data\n"
          ]
        }
      ],
      "source": [
        "cd /content/drive/MyDrive/2nd_project_elice/refine_data"
      ]
    },
    {
      "cell_type": "code",
      "source": [
        " ls"
      ],
      "metadata": {
        "id": "jT9JtpCsazjD",
        "outputId": "e46df8c0-2f21-42e0-cca8-f4496e37848f",
        "colab": {
          "base_uri": "https://localhost:8080/"
        }
      },
      "execution_count": 3,
      "outputs": [
        {
          "output_type": "stream",
          "name": "stdout",
          "text": [
            "'age_id&attribute&article_id.csv'       man_woman_recommedation.csv\n",
            "'age_id&attribute&fullarticle_id.csv'   total_count_prod.csv\n",
            " articles.csv                           transactions.csv\n",
            " customers.csv\n"
          ]
        }
      ]
    },
    {
      "cell_type": "code",
      "source": [
        "import numpy as np\n",
        "import pandas as pd\n",
        "import seaborn as sns\n",
        "from matplotlib import pyplot as plt\n",
        "from tqdm.notebook import tqdm"
      ],
      "metadata": {
        "id": "CQCJ37I5g-wX"
      },
      "execution_count": 4,
      "outputs": []
    },
    {
      "cell_type": "code",
      "source": [
        "articles = pd.read_csv(\"articles.csv\")\n",
        "customers = pd.read_csv(\"customers.csv\")\n",
        "transactions = pd.read_csv(\"transactions.csv\")\n",
        "age_attribute_article = pd.read_csv(\"age_id&attribute&article_id.csv\", index_col = 0)"
      ],
      "metadata": {
        "id": "94alL-1Vg_wh"
      },
      "execution_count": 6,
      "outputs": []
    },
    {
      "cell_type": "code",
      "source": [
        "temp = age_attribute_article.copy()"
      ],
      "metadata": {
        "id": "ayol_5G9hqba"
      },
      "execution_count": 8,
      "outputs": []
    },
    {
      "cell_type": "code",
      "source": [
        "len(temp.index)"
      ],
      "metadata": {
        "colab": {
          "base_uri": "https://localhost:8080/"
        },
        "id": "NJwr9FToiZBv",
        "outputId": "e87407d9-cb66-4db4-d160-fef58177f171"
      },
      "execution_count": 9,
      "outputs": [
        {
          "output_type": "execute_result",
          "data": {
            "text/plain": [
              "30"
            ]
          },
          "metadata": {},
          "execution_count": 9
        }
      ]
    },
    {
      "cell_type": "code",
      "source": [
        "index = temp[temp['attribute'] == \"Young\"].index\n",
        "temp = temp.drop(index)"
      ],
      "metadata": {
        "id": "YuSiD_Jqin-O"
      },
      "execution_count": 10,
      "outputs": []
    },
    {
      "cell_type": "code",
      "source": [
        "index = temp[temp['attribute'] == \"Sports-person\"].index\n",
        "temp = temp.drop(index)"
      ],
      "metadata": {
        "id": "gNGDnxN1kVx1"
      },
      "execution_count": 11,
      "outputs": []
    },
    {
      "cell_type": "code",
      "source": [
        "index = temp[temp['attribute'] == \"kids\"].index\n",
        "temp = temp.drop(index)"
      ],
      "metadata": {
        "id": "Y8vxxcxKKHp9"
      },
      "execution_count": 12,
      "outputs": []
    },
    {
      "cell_type": "code",
      "source": [
        "temp = temp.reset_index(drop=True)\n",
        "temp"
      ],
      "metadata": {
        "colab": {
          "base_uri": "https://localhost:8080/",
          "height": 426
        },
        "id": "yssHPT9qjaJ-",
        "outputId": "72fcac5d-5ad2-4844-a9db-4bc15a757b4b"
      },
      "execution_count": 13,
      "outputs": [
        {
          "output_type": "execute_result",
          "data": {
            "text/plain": [
              "    age_id attribute                                         article_id\n",
              "0        0       Man  685816001 685816002 685816041 685814003 685813...\n",
              "1        0     Woman  741356002 372860002 673396002 832453002 372860...\n",
              "2        1       Man  685816001 685816002 685816041 608945001 575347...\n",
              "3        1     Woman  741356002 749699002 753737001 716672001 859125...\n",
              "4        2       Man  685816001 685816002 598755015 598755001 685816...\n",
              "5        2     Woman  841383002 749699002 841383003 753737001 749699...\n",
              "6        3       Man  685811001 685811002 730013002 687635004 685811...\n",
              "7        3     Woman  741356002 841383003 841383002 783346018 572797...\n",
              "8        4       Man  685816001 687635004 685816002 685811002 685811...\n",
              "9        4     Woman  783346018 841383003 783346016 783346020 817361...\n",
              "10       5       Man  570004105 685816001 598755001 827359003 570004...\n",
              "11       5     Woman  766346003 783346018 766346008 783346020 817110..."
            ],
            "text/html": [
              "\n",
              "  <div id=\"df-f6b54faa-52cb-4b4d-ad86-e12415f242b3\">\n",
              "    <div class=\"colab-df-container\">\n",
              "      <div>\n",
              "<style scoped>\n",
              "    .dataframe tbody tr th:only-of-type {\n",
              "        vertical-align: middle;\n",
              "    }\n",
              "\n",
              "    .dataframe tbody tr th {\n",
              "        vertical-align: top;\n",
              "    }\n",
              "\n",
              "    .dataframe thead th {\n",
              "        text-align: right;\n",
              "    }\n",
              "</style>\n",
              "<table border=\"1\" class=\"dataframe\">\n",
              "  <thead>\n",
              "    <tr style=\"text-align: right;\">\n",
              "      <th></th>\n",
              "      <th>age_id</th>\n",
              "      <th>attribute</th>\n",
              "      <th>article_id</th>\n",
              "    </tr>\n",
              "  </thead>\n",
              "  <tbody>\n",
              "    <tr>\n",
              "      <th>0</th>\n",
              "      <td>0</td>\n",
              "      <td>Man</td>\n",
              "      <td>685816001 685816002 685816041 685814003 685813...</td>\n",
              "    </tr>\n",
              "    <tr>\n",
              "      <th>1</th>\n",
              "      <td>0</td>\n",
              "      <td>Woman</td>\n",
              "      <td>741356002 372860002 673396002 832453002 372860...</td>\n",
              "    </tr>\n",
              "    <tr>\n",
              "      <th>2</th>\n",
              "      <td>1</td>\n",
              "      <td>Man</td>\n",
              "      <td>685816001 685816002 685816041 608945001 575347...</td>\n",
              "    </tr>\n",
              "    <tr>\n",
              "      <th>3</th>\n",
              "      <td>1</td>\n",
              "      <td>Woman</td>\n",
              "      <td>741356002 749699002 753737001 716672001 859125...</td>\n",
              "    </tr>\n",
              "    <tr>\n",
              "      <th>4</th>\n",
              "      <td>2</td>\n",
              "      <td>Man</td>\n",
              "      <td>685816001 685816002 598755015 598755001 685816...</td>\n",
              "    </tr>\n",
              "    <tr>\n",
              "      <th>5</th>\n",
              "      <td>2</td>\n",
              "      <td>Woman</td>\n",
              "      <td>841383002 749699002 841383003 753737001 749699...</td>\n",
              "    </tr>\n",
              "    <tr>\n",
              "      <th>6</th>\n",
              "      <td>3</td>\n",
              "      <td>Man</td>\n",
              "      <td>685811001 685811002 730013002 687635004 685811...</td>\n",
              "    </tr>\n",
              "    <tr>\n",
              "      <th>7</th>\n",
              "      <td>3</td>\n",
              "      <td>Woman</td>\n",
              "      <td>741356002 841383003 841383002 783346018 572797...</td>\n",
              "    </tr>\n",
              "    <tr>\n",
              "      <th>8</th>\n",
              "      <td>4</td>\n",
              "      <td>Man</td>\n",
              "      <td>685816001 687635004 685816002 685811002 685811...</td>\n",
              "    </tr>\n",
              "    <tr>\n",
              "      <th>9</th>\n",
              "      <td>4</td>\n",
              "      <td>Woman</td>\n",
              "      <td>783346018 841383003 783346016 783346020 817361...</td>\n",
              "    </tr>\n",
              "    <tr>\n",
              "      <th>10</th>\n",
              "      <td>5</td>\n",
              "      <td>Man</td>\n",
              "      <td>570004105 685816001 598755001 827359003 570004...</td>\n",
              "    </tr>\n",
              "    <tr>\n",
              "      <th>11</th>\n",
              "      <td>5</td>\n",
              "      <td>Woman</td>\n",
              "      <td>766346003 783346018 766346008 783346020 817110...</td>\n",
              "    </tr>\n",
              "  </tbody>\n",
              "</table>\n",
              "</div>\n",
              "      <button class=\"colab-df-convert\" onclick=\"convertToInteractive('df-f6b54faa-52cb-4b4d-ad86-e12415f242b3')\"\n",
              "              title=\"Convert this dataframe to an interactive table.\"\n",
              "              style=\"display:none;\">\n",
              "        \n",
              "  <svg xmlns=\"http://www.w3.org/2000/svg\" height=\"24px\"viewBox=\"0 0 24 24\"\n",
              "       width=\"24px\">\n",
              "    <path d=\"M0 0h24v24H0V0z\" fill=\"none\"/>\n",
              "    <path d=\"M18.56 5.44l.94 2.06.94-2.06 2.06-.94-2.06-.94-.94-2.06-.94 2.06-2.06.94zm-11 1L8.5 8.5l.94-2.06 2.06-.94-2.06-.94L8.5 2.5l-.94 2.06-2.06.94zm10 10l.94 2.06.94-2.06 2.06-.94-2.06-.94-.94-2.06-.94 2.06-2.06.94z\"/><path d=\"M17.41 7.96l-1.37-1.37c-.4-.4-.92-.59-1.43-.59-.52 0-1.04.2-1.43.59L10.3 9.45l-7.72 7.72c-.78.78-.78 2.05 0 2.83L4 21.41c.39.39.9.59 1.41.59.51 0 1.02-.2 1.41-.59l7.78-7.78 2.81-2.81c.8-.78.8-2.07 0-2.86zM5.41 20L4 18.59l7.72-7.72 1.47 1.35L5.41 20z\"/>\n",
              "  </svg>\n",
              "      </button>\n",
              "      \n",
              "  <style>\n",
              "    .colab-df-container {\n",
              "      display:flex;\n",
              "      flex-wrap:wrap;\n",
              "      gap: 12px;\n",
              "    }\n",
              "\n",
              "    .colab-df-convert {\n",
              "      background-color: #E8F0FE;\n",
              "      border: none;\n",
              "      border-radius: 50%;\n",
              "      cursor: pointer;\n",
              "      display: none;\n",
              "      fill: #1967D2;\n",
              "      height: 32px;\n",
              "      padding: 0 0 0 0;\n",
              "      width: 32px;\n",
              "    }\n",
              "\n",
              "    .colab-df-convert:hover {\n",
              "      background-color: #E2EBFA;\n",
              "      box-shadow: 0px 1px 2px rgba(60, 64, 67, 0.3), 0px 1px 3px 1px rgba(60, 64, 67, 0.15);\n",
              "      fill: #174EA6;\n",
              "    }\n",
              "\n",
              "    [theme=dark] .colab-df-convert {\n",
              "      background-color: #3B4455;\n",
              "      fill: #D2E3FC;\n",
              "    }\n",
              "\n",
              "    [theme=dark] .colab-df-convert:hover {\n",
              "      background-color: #434B5C;\n",
              "      box-shadow: 0px 1px 3px 1px rgba(0, 0, 0, 0.15);\n",
              "      filter: drop-shadow(0px 1px 2px rgba(0, 0, 0, 0.3));\n",
              "      fill: #FFFFFF;\n",
              "    }\n",
              "  </style>\n",
              "\n",
              "      <script>\n",
              "        const buttonEl =\n",
              "          document.querySelector('#df-f6b54faa-52cb-4b4d-ad86-e12415f242b3 button.colab-df-convert');\n",
              "        buttonEl.style.display =\n",
              "          google.colab.kernel.accessAllowed ? 'block' : 'none';\n",
              "\n",
              "        async function convertToInteractive(key) {\n",
              "          const element = document.querySelector('#df-f6b54faa-52cb-4b4d-ad86-e12415f242b3');\n",
              "          const dataTable =\n",
              "            await google.colab.kernel.invokeFunction('convertToInteractive',\n",
              "                                                     [key], {});\n",
              "          if (!dataTable) return;\n",
              "\n",
              "          const docLinkHtml = 'Like what you see? Visit the ' +\n",
              "            '<a target=\"_blank\" href=https://colab.research.google.com/notebooks/data_table.ipynb>data table notebook</a>'\n",
              "            + ' to learn more about interactive tables.';\n",
              "          element.innerHTML = '';\n",
              "          dataTable['output_type'] = 'display_data';\n",
              "          await google.colab.output.renderOutput(dataTable, element);\n",
              "          const docLink = document.createElement('div');\n",
              "          docLink.innerHTML = docLinkHtml;\n",
              "          element.appendChild(docLink);\n",
              "        }\n",
              "      </script>\n",
              "    </div>\n",
              "  </div>\n",
              "  "
            ]
          },
          "metadata": {},
          "execution_count": 13
        }
      ]
    },
    {
      "cell_type": "code",
      "source": [
        "temp.to_csv('man_woman_recommedation.csv')"
      ],
      "metadata": {
        "id": "cBMCWOaqnUqf"
      },
      "execution_count": null,
      "outputs": []
    }
  ]
}